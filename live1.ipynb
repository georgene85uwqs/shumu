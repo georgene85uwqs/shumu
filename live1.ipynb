{
  "nbformat": 4,
  "nbformat_minor": 0,
  "metadata": {
    "colab": {
      "name": "live1.ipynb",
      "provenance": []
    },
    "kernelspec": {
      "name": "python3",
      "display_name": "Python 3"
    },
    "accelerator": "GPU"
  },
  "cells": [
    {
      "cell_type": "markdown",
      "metadata": {
        "id": "iZHeCRyvNA_s"
      },
      "source": [
        "# **1**\n",
        "\n",
        "\n",
        "\n"
      ]
    },
    {
      "cell_type": "code",
      "metadata": {
        "id": "SPwEG15rDb5Q"
      },
      "source": [
        "!nvidia-smi"
      ],
      "execution_count": null,
      "outputs": []
    },
    {
      "cell_type": "code",
      "metadata": {
        "id": "rdogi5nqDb7y"
      },
      "source": [
        "!sed -i -e 's/\\r$//' get_polaris.sh\n",
        "!chmod +x *.sh\n",
        "!./get_polaris.sh"
      ],
      "execution_count": null,
      "outputs": []
    }
  ]
}